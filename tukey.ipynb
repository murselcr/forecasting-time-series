{
  "nbformat": 4,
  "nbformat_minor": 0,
  "metadata": {
    "colab": {
      "provenance": [],
      "authorship_tag": "ABX9TyM82ZyTYA50L4uX/43V6LYd",
      "include_colab_link": true
    },
    "kernelspec": {
      "name": "python3",
      "display_name": "Python 3"
    },
    "language_info": {
      "name": "python"
    }
  },
  "cells": [
    {
      "cell_type": "markdown",
      "metadata": {
        "id": "view-in-github",
        "colab_type": "text"
      },
      "source": [
        "<a href=\"https://colab.research.google.com/github/murselcr/forecasting-time-series/blob/main/tukey.ipynb\" target=\"_parent\"><img src=\"https://colab.research.google.com/assets/colab-badge.svg\" alt=\"Open In Colab\"/></a>"
      ]
    },
    {
      "cell_type": "code",
      "source": [
        "import pandas as pd\n",
        "import numpy as np\n",
        "from statsmodels.formula.api import ols\n",
        "from statsmodels.stats.anova import anova_lm\n",
        "\n",
        "# Verileri tanımlayalım\n",
        "data = {\n",
        "      'Firin_Sicakligi': [150, 150, 150, 150, 150, 150, 150, 150, 150, 150, 150, 150, 200, 200, 200,\n",
        "                        200, 200, 200, 200, 200, 200, 200, 200, 200],\n",
        "    'Yumurta_Miktarı': [2, 2,3,3,4,4,2,2,3,3,4,4,2,2,3,3,4,4,2,2,3,3,4,4],\n",
        "    'Kek_Kalibi': ['Silikon', 'Silikon', 'Silikon', 'Silikon', 'Silikon', 'Silikon', 'Cam', 'Cam', 'Cam', 'Cam', 'Cam', 'Cam',\n",
        "                   'Silikon', 'Silikon', 'Silikon', 'Silikon', 'Silikon', 'Silikon', 'Cam', 'Cam', 'Cam', 'Cam', 'Cam', 'Cam'],\n",
        "\n",
        "    'Pisme_Suresi': [55, 57, 62,64,68,70,58,60,65,67,71,73,45,47,52,54,59,63,46,50,55,57,61,63]\n",
        "}\n",
        "\n",
        "df = pd.DataFrame(data)\n",
        "\n",
        "# Veriyi inceleyelim\n",
        "print(df.head())\n",
        "\n",
        "# ANOVA analizi\n",
        "model = ols('Pisme_Suresi ~ C(Yumurta_Miktarı) + C(Kek_Kalibi) + C(Firin_Sicakligi) + \\\n",
        "            C(Yumurta_Miktarı):C(Kek_Kalibi) + C(Yumurta_Miktarı):C(Firin_Sicakligi) + \\\n",
        "            C(Kek_Kalibi):C(Firin_Sicakligi) + C(Yumurta_Miktarı):C(Kek_Kalibi):C(Firin_Sicakligi)', data=df).fit()\n",
        "\n",
        "anova_results = anova_lm(model, typ=2)\n",
        "print(anova_results)\n",
        "\n"
      ],
      "metadata": {
        "colab": {
          "base_uri": "https://localhost:8080/"
        },
        "collapsed": true,
        "id": "groX3t4VirDs",
        "outputId": "c8ac77f4-78cd-4f8e-c81b-24ea78a284dd"
      },
      "execution_count": null,
      "outputs": [
        {
          "output_type": "stream",
          "name": "stdout",
          "text": [
            "   Firin_Sicakligi  Yumurta_Miktarı Kek_Kalibi  Pisme_Suresi\n",
            "0              150                2    Silikon            55\n",
            "1              150                2    Silikon            57\n",
            "2              150                3    Silikon            62\n",
            "3              150                3    Silikon            64\n",
            "4              150                4    Silikon            68\n",
            "                                                        sum_sq    df  \\\n",
            "C(Yumurta_Miktarı)                                  757.000000   2.0   \n",
            "C(Kek_Kalibi)                                        37.500000   1.0   \n",
            "C(Firin_Sicakligi)                                  580.166667   1.0   \n",
            "C(Yumurta_Miktarı):C(Kek_Kalibi)                      1.000000   2.0   \n",
            "C(Yumurta_Miktarı):C(Firin_Sicakligi)                 2.333333   2.0   \n",
            "C(Kek_Kalibi):C(Firin_Sicakligi)                      1.500000   1.0   \n",
            "C(Yumurta_Miktarı):C(Kek_Kalibi):C(Firin_Sicakl...    1.000000   2.0   \n",
            "Residual                                             36.000000  12.0   \n",
            "\n",
            "                                                             F        PR(>F)  \n",
            "C(Yumurta_Miktarı)                                  126.166667  8.753382e-09  \n",
            "C(Kek_Kalibi)                                        12.500000  4.104409e-03  \n",
            "C(Firin_Sicakligi)                                  193.388889  9.206689e-09  \n",
            "C(Yumurta_Miktarı):C(Kek_Kalibi)                      0.166667  8.484078e-01  \n",
            "C(Yumurta_Miktarı):C(Firin_Sicakligi)                 0.388889  6.860496e-01  \n",
            "C(Kek_Kalibi):C(Firin_Sicakligi)                      0.500000  4.930037e-01  \n",
            "C(Yumurta_Miktarı):C(Kek_Kalibi):C(Firin_Sicakl...    0.166667  8.484078e-01  \n",
            "Residual                                                   NaN           NaN  \n"
          ]
        }
      ]
    },
    {
      "cell_type": "code",
      "source": [],
      "metadata": {
        "id": "dJXWe0z31FWm"
      },
      "execution_count": null,
      "outputs": []
    },
    {
      "cell_type": "code",
      "source": [
        "\n",
        "# Tukey HSD testleri\n",
        "tukey_yumurta_miktari = pairwise_tukeyhsd(endog=df['Pisme_Suresi'],\n",
        "                                          groups=df['Yumurta_Miktarı'],\n",
        "                                          alpha=0.05)\n",
        "print(tukey_yumurta_miktari)\n",
        "\n",
        "tukey_kek_kalibi = pairwise_tukeyhsd(endog=df['Pisme_Suresi'],\n",
        "                                     groups=df['Kek_Kalibi'],\n",
        "                                     alpha=0.05)\n",
        "print(tukey_kek_kalibi)\n",
        "\n",
        "tukey_firin_sicakligi = pairwise_tukeyhsd(endog=df['Pisme_Suresi'],\n",
        "                                          groups=df['Firin_Sicakligi'],\n",
        "                                          alpha=0.05)\n",
        "print(tukey_firin_sicakligi)\n"
      ],
      "metadata": {
        "colab": {
          "base_uri": "https://localhost:8080/"
        },
        "id": "awK75yHrkzei",
        "outputId": "c24770b5-c19b-4d15-a8cc-f9f8c6737ac1"
      },
      "execution_count": null,
      "outputs": [
        {
          "output_type": "stream",
          "name": "stdout",
          "text": [
            "Multiple Comparison of Means - Tukey HSD, FWER=0.05 \n",
            "====================================================\n",
            "group1 group2 meandiff p-adj   lower   upper  reject\n",
            "----------------------------------------------------\n",
            "     2      3     7.25 0.0435  0.1874 14.3126   True\n",
            "     2      4    13.75 0.0002  6.6874 20.8126   True\n",
            "     3      4      6.5 0.0749 -0.5626 13.5626  False\n",
            "----------------------------------------------------\n",
            "Multiple Comparison of Means - Tukey HSD, FWER=0.05 \n",
            "====================================================\n",
            "group1  group2 meandiff p-adj   lower  upper  reject\n",
            "----------------------------------------------------\n",
            "   Cam Silikon     -2.5 0.4475 -9.2031 4.2031  False\n",
            "----------------------------------------------------\n",
            " Multiple Comparison of Means - Tukey HSD, FWER=0.05 \n",
            "=====================================================\n",
            "group1 group2 meandiff p-adj   lower    upper  reject\n",
            "-----------------------------------------------------\n",
            "   150    200  -9.8333 0.0008 -15.0535 -4.6132   True\n",
            "-----------------------------------------------------\n"
          ]
        }
      ]
    }
  ]
}